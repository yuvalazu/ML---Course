{
 "cells": [
  {
   "cell_type": "markdown",
   "id": "d50dd63e",
   "metadata": {},
   "source": [
    "## Unsupervised Learning - Clustering"
   ]
  },
  {
   "cell_type": "code",
   "execution_count": null,
   "id": "b9944b9d",
   "metadata": {},
   "outputs": [],
   "source": [
    "# !pip install pyclustering\n",
    "# !pip install scikit-learn-extra\n",
    "import pyclustering.cluster.kmedoids\n",
    "from pyclustering.cluster.kmedoids import kmedoids\n",
    "import pyclustering.utils.metric as metric\n",
    "from sklearn.metrics import silhouette_samples\n",
    "from sklearn_extra.cluster import KMedoids"
   ]
  },
  {
   "cell_type": "code",
   "execution_count": null,
   "id": "a6f03392",
   "metadata": {},
   "outputs": [],
   "source": [
    "from pyclustering.utils.metric import distance_metric, type_metric\n",
    "from pyclustering.cluster.kmedoids import kmedoids\n",
    "from pyclustering.cluster.center_initializer import kmeans_plusplus_initializer\n",
    "from sklearn.metrics import silhouette_score, davies_bouldin_score\n",
    "from tqdm import tqdm\n",
    "import matplotlib.pyplot as plt"
   ]
  },
  {
   "cell_type": "code",
   "execution_count": null,
   "id": "25aee8ef",
   "metadata": {},
   "outputs": [],
   "source": [
    "x = df_x.to_numpy()\n",
    "\n",
    "metric = distance_metric(type_metric.GOWER, max_range=x.max(axis=0))\n",
    "\n",
    "dbi_list = []\n",
    "sil_list = []\n",
    "\n",
    "max_n_clusters = 8"
   ]
  },
  {
   "cell_type": "code",
   "execution_count": null,
   "id": "1e48f4fb",
   "metadata": {},
   "outputs": [],
   "source": [
    "for n_clusters in tqdm(range(2, max_n_clusters, 1)):\n",
    "    initial_medoids = kmeans_plusplus_initializer(x, n_clusters).initialize(return_index=True)\n",
    "    kmedoids_instance = kmedoids(x, initial_medoids, metric=metric)\n",
    "    kmedoids_instance.process()\n",
    "    assignment = kmedoids_instance.predict(x)\n",
    "\n",
    "    sil = silhouette_score(x, assignment)\n",
    "    dbi = davies_bouldin_score(x, assignment)\n",
    "\n",
    "    dbi_list.append(dbi)\n",
    "    sil_list.append(sil)"
   ]
  },
  {
   "cell_type": "code",
   "execution_count": null,
   "id": "70f72ec1",
   "metadata": {},
   "outputs": [],
   "source": [
    "\n",
    "plt.plot(range(2, max_n_clusters, 1), sil_list, marker='o')\n",
    "plt.title(\"Silhouette\")\n",
    "plt.xlabel(\"Number of clusters\")\n",
    "plt.show()\n",
    "\n",
    "plt.plot(range(2, max_n_clusters, 1), dbi_list, marker='o')\n",
    "plt.title(\"Davies-bouldin\")\n",
    "plt.xlabel(\"Number of clusters\")\n",
    "plt.show()\n"
   ]
  },
  {
   "cell_type": "code",
   "execution_count": null,
   "id": "f09733ec",
   "metadata": {},
   "outputs": [],
   "source": [
    "initial_medoids = kmeans_plusplus_initializer(x, 2).initialize(return_index=True)\n",
    "kmedoids_instance = kmedoids(x, initial_medoids, metric=metric)\n",
    "kmedoids_instance.process()\n",
    "assignment = kmedoids_instance.predict(x)"
   ]
  },
  {
   "cell_type": "code",
   "execution_count": null,
   "id": "366310bc",
   "metadata": {},
   "outputs": [],
   "source": [
    "df_x[\"assignment\"] = assignment\n",
    "df_x[df_x[\"assignment\"]==0].head()"
   ]
  },
  {
   "cell_type": "code",
   "execution_count": null,
   "id": "00f5a3fd",
   "metadata": {},
   "outputs": [],
   "source": [
    "df_x[df_x[\"assignment\"]==1].head()\n"
   ]
  },
  {
   "cell_type": "code",
   "execution_count": null,
   "id": "66073aab",
   "metadata": {},
   "outputs": [],
   "source": [
    "print(\"Roc_Auc_Score:\",roc_auc_score(df_x.target, df_x.assignment))\n"
   ]
  },
  {
   "cell_type": "code",
   "execution_count": null,
   "id": "7697ba2d",
   "metadata": {},
   "outputs": [],
   "source": []
  },
  {
   "cell_type": "code",
   "execution_count": null,
   "id": "b62e3380",
   "metadata": {},
   "outputs": [],
   "source": []
  },
  {
   "cell_type": "code",
   "execution_count": null,
   "id": "09732e26",
   "metadata": {},
   "outputs": [],
   "source": []
  }
 ],
 "metadata": {
  "kernelspec": {
   "display_name": "Python 3",
   "language": "python",
   "name": "python3"
  },
  "language_info": {
   "codemirror_mode": {
    "name": "ipython",
    "version": 3
   },
   "file_extension": ".py",
   "mimetype": "text/x-python",
   "name": "python",
   "nbconvert_exporter": "python",
   "pygments_lexer": "ipython3",
   "version": "3.8.8"
  }
 },
 "nbformat": 4,
 "nbformat_minor": 5
}
