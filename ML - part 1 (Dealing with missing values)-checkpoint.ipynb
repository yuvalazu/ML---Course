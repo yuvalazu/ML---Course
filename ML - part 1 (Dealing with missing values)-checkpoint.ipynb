{
 "cells": [
  {
   "cell_type": "code",
   "execution_count": 1,
   "id": "37594ec5",
   "metadata": {},
   "outputs": [],
   "source": [
    "import pandas as pd"
   ]
  },
  {
   "cell_type": "code",
   "execution_count": 59,
   "id": "afcd416f",
   "metadata": {},
   "outputs": [
    {
     "data": {
      "text/html": [
       "<div>\n",
       "<style scoped>\n",
       "    .dataframe tbody tr th:only-of-type {\n",
       "        vertical-align: middle;\n",
       "    }\n",
       "\n",
       "    .dataframe tbody tr th {\n",
       "        vertical-align: top;\n",
       "    }\n",
       "\n",
       "    .dataframe thead th {\n",
       "        text-align: right;\n",
       "    }\n",
       "</style>\n",
       "<table border=\"1\" class=\"dataframe\">\n",
       "  <thead>\n",
       "    <tr style=\"text-align: right;\">\n",
       "      <th></th>\n",
       "      <th>enrollee_id</th>\n",
       "      <th>city</th>\n",
       "      <th>city_development_index</th>\n",
       "      <th>gender</th>\n",
       "      <th>relevent_experience</th>\n",
       "      <th>enrolled_university</th>\n",
       "      <th>education_level</th>\n",
       "      <th>major_discipline</th>\n",
       "      <th>experience</th>\n",
       "      <th>company_size</th>\n",
       "      <th>company_type</th>\n",
       "      <th>last_new_job</th>\n",
       "      <th>training_hours</th>\n",
       "      <th>target</th>\n",
       "    </tr>\n",
       "  </thead>\n",
       "  <tbody>\n",
       "    <tr>\n",
       "      <th>0</th>\n",
       "      <td>13163</td>\n",
       "      <td>city_16</td>\n",
       "      <td>0.910</td>\n",
       "      <td>NaN</td>\n",
       "      <td>No relevent experience</td>\n",
       "      <td>no_enrollment</td>\n",
       "      <td>High School</td>\n",
       "      <td>NaN</td>\n",
       "      <td>2</td>\n",
       "      <td>NaN</td>\n",
       "      <td>NaN</td>\n",
       "      <td>never</td>\n",
       "      <td>16</td>\n",
       "      <td>1</td>\n",
       "    </tr>\n",
       "    <tr>\n",
       "      <th>1</th>\n",
       "      <td>9357</td>\n",
       "      <td>city_136</td>\n",
       "      <td>0.897</td>\n",
       "      <td>Male</td>\n",
       "      <td>Has relevent experience</td>\n",
       "      <td>no_enrollment</td>\n",
       "      <td>Masters</td>\n",
       "      <td>STEM</td>\n",
       "      <td>6</td>\n",
       "      <td>1000-4999</td>\n",
       "      <td>Pvt Ltd</td>\n",
       "      <td>1</td>\n",
       "      <td>262</td>\n",
       "      <td>0</td>\n",
       "    </tr>\n",
       "    <tr>\n",
       "      <th>2</th>\n",
       "      <td>604</td>\n",
       "      <td>city_16</td>\n",
       "      <td>0.910</td>\n",
       "      <td>Male</td>\n",
       "      <td>No relevent experience</td>\n",
       "      <td>NaN</td>\n",
       "      <td>NaN</td>\n",
       "      <td>NaN</td>\n",
       "      <td>3</td>\n",
       "      <td>NaN</td>\n",
       "      <td>NaN</td>\n",
       "      <td>never</td>\n",
       "      <td>24</td>\n",
       "      <td>0</td>\n",
       "    </tr>\n",
       "    <tr>\n",
       "      <th>3</th>\n",
       "      <td>19033</td>\n",
       "      <td>city_16</td>\n",
       "      <td>0.910</td>\n",
       "      <td>Male</td>\n",
       "      <td>No relevent experience</td>\n",
       "      <td>no_enrollment</td>\n",
       "      <td>High School</td>\n",
       "      <td>NaN</td>\n",
       "      <td>3</td>\n",
       "      <td>NaN</td>\n",
       "      <td>NaN</td>\n",
       "      <td>1</td>\n",
       "      <td>35</td>\n",
       "      <td>0</td>\n",
       "    </tr>\n",
       "    <tr>\n",
       "      <th>4</th>\n",
       "      <td>4825</td>\n",
       "      <td>city_145</td>\n",
       "      <td>0.555</td>\n",
       "      <td>Male</td>\n",
       "      <td>Has relevent experience</td>\n",
       "      <td>Full time course</td>\n",
       "      <td>Graduate</td>\n",
       "      <td>STEM</td>\n",
       "      <td>4</td>\n",
       "      <td>NaN</td>\n",
       "      <td>NaN</td>\n",
       "      <td>1</td>\n",
       "      <td>43</td>\n",
       "      <td>1</td>\n",
       "    </tr>\n",
       "  </tbody>\n",
       "</table>\n",
       "</div>"
      ],
      "text/plain": [
       "   enrollee_id      city  city_development_index gender  \\\n",
       "0        13163   city_16                   0.910    NaN   \n",
       "1         9357  city_136                   0.897   Male   \n",
       "2          604   city_16                   0.910   Male   \n",
       "3        19033   city_16                   0.910   Male   \n",
       "4         4825  city_145                   0.555   Male   \n",
       "\n",
       "       relevent_experience enrolled_university education_level  \\\n",
       "0   No relevent experience       no_enrollment     High School   \n",
       "1  Has relevent experience       no_enrollment         Masters   \n",
       "2   No relevent experience                 NaN             NaN   \n",
       "3   No relevent experience       no_enrollment     High School   \n",
       "4  Has relevent experience    Full time course        Graduate   \n",
       "\n",
       "  major_discipline experience company_size company_type last_new_job  \\\n",
       "0              NaN          2          NaN          NaN        never   \n",
       "1             STEM          6    1000-4999      Pvt Ltd            1   \n",
       "2              NaN          3          NaN          NaN        never   \n",
       "3              NaN          3          NaN          NaN            1   \n",
       "4             STEM          4          NaN          NaN            1   \n",
       "\n",
       "   training_hours  target  \n",
       "0              16       1  \n",
       "1             262       0  \n",
       "2              24       0  \n",
       "3              35       0  \n",
       "4              43       1  "
      ]
     },
     "execution_count": 59,
     "metadata": {},
     "output_type": "execute_result"
    }
   ],
   "source": [
    "df = pd.read_csv('XY_train.csv',encoding='latin-1')\n",
    "df.head(5)"
   ]
  },
  {
   "cell_type": "markdown",
   "id": "35e6429a",
   "metadata": {},
   "source": [
    "# Pre-processing"
   ]
  },
  {
   "cell_type": "markdown",
   "id": "f50c62d0",
   "metadata": {},
   "source": [
    "## Dealing with missing values"
   ]
  },
  {
   "cell_type": "markdown",
   "id": "586d19cb",
   "metadata": {},
   "source": [
    "#### \"gender\", \"company_size\", \"company_type\"  - I added an unknown category\n",
    "#### \"enrolled_university\", \"major_discipline\", \"education_level\", \"last_new_job\" - fillna with the mode value: \"no_enrollment\", \"STEM\""
   ]
  },
  {
   "cell_type": "code",
   "execution_count": 60,
   "id": "4c72ddff",
   "metadata": {},
   "outputs": [
    {
     "name": "stdout",
     "output_type": "stream",
     "text": [
      "0    no_enrollment\n",
      "dtype: object\n",
      "0    STEM\n",
      "dtype: object\n",
      "0    1\n",
      "dtype: object\n",
      "0    Graduate\n",
      "dtype: object\n"
     ]
    }
   ],
   "source": [
    "df[\"gender\"] = df[\"gender\"].fillna(\"unknown\")\n",
    "df[\"company_size\"] = df[\"company_size\"].fillna(\"unknown\")\n",
    "df[\"company_type\"] = df[\"company_type\"].fillna(\"unknown\")\n",
    "print(df[\"enrolled_university\"].mode())\n",
    "df[\"enrolled_university\"] = df[\"enrolled_university\"].fillna(\"no_enrollment\")\n",
    "print(df[\"major_discipline\"].mode())\n",
    "df[\"major_discipline\"] = df[\"major_discipline\"].fillna(\"STEM\")\n",
    "print(df[\"last_new_job\"].mode())\n",
    "df[\"last_new_job\"] = df[\"last_new_job\"].fillna(\"1\")\n",
    "print(df[\"education_level\"].mode())\n",
    "df[\"education_level\"] = df[\"education_level\"].fillna(\"Graduate\")"
   ]
  },
  {
   "cell_type": "markdown",
   "id": "57b639a8",
   "metadata": {},
   "source": [
    "#### \"experience\" - cut to 4 level (\"low\", \"low-middle\", \"middle-high\", \"high\")"
   ]
  },
  {
   "cell_type": "code",
   "execution_count": 61,
   "id": "462895a5",
   "metadata": {},
   "outputs": [
    {
     "name": "stdout",
     "output_type": "stream",
     "text": [
      "['2' '6' '3' '4' '>20' '13' '19' '10' '1' '5' '7' '20' '14' '16' '12' '15'\n",
      " '8' '<1' '17' '9' '11' '18' nan]\n",
      "[ 2.  6.  3.  4. 20. 13. 19. 10.  1.  5.  7. 14. 16. 12. 15.  8. 17.  9.\n",
      " 11. 18. nan]\n",
      "0    20.0\n",
      "dtype: float64\n",
      "20.0    2783\n",
      "5.0     1161\n",
      "4.0     1097\n",
      "3.0     1084\n",
      "6.0      979\n",
      "2.0      889\n",
      "1.0      841\n",
      "7.0      825\n",
      "9.0      804\n",
      "10.0     789\n",
      "8.0      636\n",
      "15.0     572\n",
      "11.0     525\n",
      "14.0     478\n",
      "16.0     403\n",
      "12.0     393\n",
      "13.0     313\n",
      "17.0     282\n",
      "19.0     249\n",
      "18.0     223\n",
      "Name: experience, dtype: int64\n",
      "low            5072\n",
      "high           3940\n",
      "low-middle     3244\n",
      "middle-high    3070\n",
      "Name: experience, dtype: int64\n"
     ]
    }
   ],
   "source": [
    "print(df[\"experience\"].unique())\n",
    "df[\"experience\"] = df[\"experience\"].replace(\"<1\",\"1\")\n",
    "df[\"experience\"] = df[\"experience\"].replace(\">20\",\"20\")\n",
    "df[\"experience\"] = pd.to_numeric(df[\"experience\"])\n",
    "print(df[\"experience\"].unique())\n",
    "print(df[\"experience\"].mode())\n",
    "df[\"experience\"] = df[\"experience\"].fillna(20)\n",
    "print(df[\"experience\"].value_counts())\n",
    "bins = [0,5,9,15,20]\n",
    "labels = [\"low\", \"low-middle\", \"middle-high\", \"high\"]\n",
    "df[\"experience\"] = pd.cut(df[\"experience\"], bins= bins, labels= labels)\n",
    "print(df[\"experience\"].value_counts())"
   ]
  },
  {
   "cell_type": "code",
   "execution_count": 62,
   "id": "3e19c2f0",
   "metadata": {},
   "outputs": [
    {
     "data": {
      "text/plain": [
       "enrollee_id               0\n",
       "city                      0\n",
       "city_development_index    0\n",
       "gender                    0\n",
       "relevent_experience       0\n",
       "enrolled_university       0\n",
       "education_level           0\n",
       "major_discipline          0\n",
       "experience                0\n",
       "company_size              0\n",
       "company_type              0\n",
       "last_new_job              0\n",
       "training_hours            0\n",
       "target                    0\n",
       "dtype: int64"
      ]
     },
     "execution_count": 62,
     "metadata": {},
     "output_type": "execute_result"
    }
   ],
   "source": [
    "df.isna().sum()"
   ]
  },
  {
   "cell_type": "code",
   "execution_count": null,
   "id": "d5f5906a",
   "metadata": {},
   "outputs": [],
   "source": []
  }
 ],
 "metadata": {
  "kernelspec": {
   "display_name": "Python 3 (ipykernel)",
   "language": "python",
   "name": "python3"
  },
  "language_info": {
   "codemirror_mode": {
    "name": "ipython",
    "version": 3
   },
   "file_extension": ".py",
   "mimetype": "text/x-python",
   "name": "python",
   "nbconvert_exporter": "python",
   "pygments_lexer": "ipython3",
   "version": "3.9.7"
  }
 },
 "nbformat": 4,
 "nbformat_minor": 5
}
