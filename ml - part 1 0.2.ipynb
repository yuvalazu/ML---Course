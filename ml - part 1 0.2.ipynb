{
 "cells": [
  {
   "cell_type": "code",
   "execution_count": 1,
   "id": "a8509fa0",
   "metadata": {},
   "outputs": [],
   "source": [
    "import pandas as pd"
   ]
  },
  {
   "cell_type": "code",
   "execution_count": 12,
   "id": "471d2ede",
   "metadata": {},
   "outputs": [
    {
     "data": {
      "text/html": [
       "<div>\n",
       "<style scoped>\n",
       "    .dataframe tbody tr th:only-of-type {\n",
       "        vertical-align: middle;\n",
       "    }\n",
       "\n",
       "    .dataframe tbody tr th {\n",
       "        vertical-align: top;\n",
       "    }\n",
       "\n",
       "    .dataframe thead th {\n",
       "        text-align: right;\n",
       "    }\n",
       "</style>\n",
       "<table border=\"1\" class=\"dataframe\">\n",
       "  <thead>\n",
       "    <tr style=\"text-align: right;\">\n",
       "      <th></th>\n",
       "      <th>enrollee_id</th>\n",
       "      <th>city</th>\n",
       "      <th>city_development_index</th>\n",
       "      <th>gender</th>\n",
       "      <th>relevent_experience</th>\n",
       "      <th>enrolled_university</th>\n",
       "      <th>education_level</th>\n",
       "      <th>major_discipline</th>\n",
       "      <th>experience</th>\n",
       "      <th>company_size</th>\n",
       "      <th>company_type</th>\n",
       "      <th>last_new_job</th>\n",
       "      <th>training_hours</th>\n",
       "      <th>target</th>\n",
       "    </tr>\n",
       "  </thead>\n",
       "  <tbody>\n",
       "    <tr>\n",
       "      <th>0</th>\n",
       "      <td>13163</td>\n",
       "      <td>city_16</td>\n",
       "      <td>0.910</td>\n",
       "      <td>NaN</td>\n",
       "      <td>No relevent experience</td>\n",
       "      <td>no_enrollment</td>\n",
       "      <td>High School</td>\n",
       "      <td>NaN</td>\n",
       "      <td>2</td>\n",
       "      <td>NaN</td>\n",
       "      <td>NaN</td>\n",
       "      <td>never</td>\n",
       "      <td>16</td>\n",
       "      <td>1</td>\n",
       "    </tr>\n",
       "    <tr>\n",
       "      <th>1</th>\n",
       "      <td>9357</td>\n",
       "      <td>city_136</td>\n",
       "      <td>0.897</td>\n",
       "      <td>Male</td>\n",
       "      <td>Has relevent experience</td>\n",
       "      <td>no_enrollment</td>\n",
       "      <td>Masters</td>\n",
       "      <td>STEM</td>\n",
       "      <td>6</td>\n",
       "      <td>1000-4999</td>\n",
       "      <td>Pvt Ltd</td>\n",
       "      <td>1</td>\n",
       "      <td>262</td>\n",
       "      <td>0</td>\n",
       "    </tr>\n",
       "    <tr>\n",
       "      <th>2</th>\n",
       "      <td>604</td>\n",
       "      <td>city_16</td>\n",
       "      <td>0.910</td>\n",
       "      <td>Male</td>\n",
       "      <td>No relevent experience</td>\n",
       "      <td>NaN</td>\n",
       "      <td>NaN</td>\n",
       "      <td>NaN</td>\n",
       "      <td>3</td>\n",
       "      <td>NaN</td>\n",
       "      <td>NaN</td>\n",
       "      <td>never</td>\n",
       "      <td>24</td>\n",
       "      <td>0</td>\n",
       "    </tr>\n",
       "    <tr>\n",
       "      <th>3</th>\n",
       "      <td>19033</td>\n",
       "      <td>city_16</td>\n",
       "      <td>0.910</td>\n",
       "      <td>Male</td>\n",
       "      <td>No relevent experience</td>\n",
       "      <td>no_enrollment</td>\n",
       "      <td>High School</td>\n",
       "      <td>NaN</td>\n",
       "      <td>3</td>\n",
       "      <td>NaN</td>\n",
       "      <td>NaN</td>\n",
       "      <td>1</td>\n",
       "      <td>35</td>\n",
       "      <td>0</td>\n",
       "    </tr>\n",
       "    <tr>\n",
       "      <th>4</th>\n",
       "      <td>4825</td>\n",
       "      <td>city_145</td>\n",
       "      <td>0.555</td>\n",
       "      <td>Male</td>\n",
       "      <td>Has relevent experience</td>\n",
       "      <td>Full time course</td>\n",
       "      <td>Graduate</td>\n",
       "      <td>STEM</td>\n",
       "      <td>4</td>\n",
       "      <td>NaN</td>\n",
       "      <td>NaN</td>\n",
       "      <td>1</td>\n",
       "      <td>43</td>\n",
       "      <td>1</td>\n",
       "    </tr>\n",
       "  </tbody>\n",
       "</table>\n",
       "</div>"
      ],
      "text/plain": [
       "   enrollee_id      city  city_development_index gender  \\\n",
       "0        13163   city_16                   0.910    NaN   \n",
       "1         9357  city_136                   0.897   Male   \n",
       "2          604   city_16                   0.910   Male   \n",
       "3        19033   city_16                   0.910   Male   \n",
       "4         4825  city_145                   0.555   Male   \n",
       "\n",
       "       relevent_experience enrolled_university education_level  \\\n",
       "0   No relevent experience       no_enrollment     High School   \n",
       "1  Has relevent experience       no_enrollment         Masters   \n",
       "2   No relevent experience                 NaN             NaN   \n",
       "3   No relevent experience       no_enrollment     High School   \n",
       "4  Has relevent experience    Full time course        Graduate   \n",
       "\n",
       "  major_discipline experience company_size company_type last_new_job  \\\n",
       "0              NaN          2          NaN          NaN        never   \n",
       "1             STEM          6    1000-4999      Pvt Ltd            1   \n",
       "2              NaN          3          NaN          NaN        never   \n",
       "3              NaN          3          NaN          NaN            1   \n",
       "4             STEM          4          NaN          NaN            1   \n",
       "\n",
       "   training_hours  target  \n",
       "0              16       1  \n",
       "1             262       0  \n",
       "2              24       0  \n",
       "3              35       0  \n",
       "4              43       1  "
      ]
     },
     "execution_count": 12,
     "metadata": {},
     "output_type": "execute_result"
    }
   ],
   "source": [
    "df = pd.read_csv('XY_train.csv',encoding='latin-1')\n",
    "df.head(5)"
   ]
  },
  {
   "cell_type": "code",
   "execution_count": 13,
   "id": "00e5c68c",
   "metadata": {},
   "outputs": [],
   "source": [
    "df_y = df[\"target\"]"
   ]
  },
  {
   "cell_type": "code",
   "execution_count": 14,
   "id": "a3264374",
   "metadata": {},
   "outputs": [
    {
     "name": "stdout",
     "output_type": "stream",
     "text": [
      "0    no_enrollment\n",
      "dtype: object\n",
      "0    STEM\n",
      "dtype: object\n",
      "0    1\n",
      "dtype: object\n",
      "0    Graduate\n",
      "dtype: object\n"
     ]
    }
   ],
   "source": [
    "df[\"gender\"] = df[\"gender\"].fillna(\"unknown\")\n",
    "df[\"company_size\"] = df[\"company_size\"].fillna(\"unknown\")\n",
    "df[\"company_type\"] = df[\"company_type\"].fillna(\"unknown\")\n",
    "print(df[\"enrolled_university\"].mode())\n",
    "df[\"enrolled_university\"] = df[\"enrolled_university\"].fillna(\"no_enrollment\")\n",
    "print(df[\"major_discipline\"].mode())\n",
    "df[\"major_discipline\"] = df[\"major_discipline\"].fillna(\"STEM\")\n",
    "print(df[\"last_new_job\"].mode())\n",
    "df[\"last_new_job\"] = df[\"last_new_job\"].fillna(\"1\")\n",
    "print(df[\"education_level\"].mode())\n",
    "df[\"education_level\"] = df[\"education_level\"].fillna(\"Graduate\")"
   ]
  },
  {
   "cell_type": "code",
   "execution_count": null,
   "id": "0d5cb8bf",
   "metadata": {},
   "outputs": [],
   "source": []
  },
  {
   "cell_type": "code",
   "execution_count": 15,
   "id": "b92a90dc",
   "metadata": {},
   "outputs": [
    {
     "name": "stdout",
     "output_type": "stream",
     "text": [
      "['2' '6' '3' '4' '>20' '13' '19' '10' '1' '5' '7' '20' '14' '16' '12' '15'\n",
      " '8' '<1' '17' '9' '11' '18' nan]\n",
      "[ 2.  6.  3.  4. 20. 13. 19. 10.  1.  5.  7. 14. 16. 12. 15.  8. 17.  9.\n",
      " 11. 18. nan]\n",
      "0    20.0\n",
      "dtype: float64\n",
      "20.0    2783\n",
      "5.0     1161\n",
      "4.0     1097\n",
      "3.0     1084\n",
      "6.0      979\n",
      "2.0      889\n",
      "1.0      841\n",
      "7.0      825\n",
      "9.0      804\n",
      "10.0     789\n",
      "8.0      636\n",
      "15.0     572\n",
      "11.0     525\n",
      "14.0     478\n",
      "16.0     403\n",
      "12.0     393\n",
      "13.0     313\n",
      "17.0     282\n",
      "19.0     249\n",
      "18.0     223\n",
      "Name: experience, dtype: int64\n",
      "low            5072\n",
      "high           3940\n",
      "low-middle     3244\n",
      "middle-high    3070\n",
      "Name: experience, dtype: int64\n"
     ]
    }
   ],
   "source": [
    "print(df[\"experience\"].unique())\n",
    "df[\"experience\"] = df[\"experience\"].replace(\"<1\",\"1\")\n",
    "df[\"experience\"] = df[\"experience\"].replace(\">20\",\"20\")\n",
    "df[\"experience\"] = pd.to_numeric(df[\"experience\"])\n",
    "print(df[\"experience\"].unique())\n",
    "print(df[\"experience\"].mode())\n",
    "df[\"experience\"] = df[\"experience\"].fillna(20)\n",
    "print(df[\"experience\"].value_counts())\n",
    "bins = [0,5,9,15,20]\n",
    "labels = [\"low\", \"low-middle\", \"middle-high\", \"high\"]\n",
    "df[\"experience\"] = pd.cut(df[\"experience\"], bins= bins, labels= labels)\n",
    "print(df[\"experience\"].value_counts())\n",
    "\n",
    "## experience\n",
    "df[\"experience\"] = df[\"experience\"].replace(\"low\",0)\n",
    "df[\"experience\"] = df[\"experience\"].replace(\"low-middle\",1)\n",
    "df[\"experience\"] = df[\"experience\"].replace(\"middle-high\",2)\n",
    "df[\"experience\"] = df[\"experience\"].replace(\"high\",3)\n",
    "\n",
    "df.experience= df.experience.astype(int)"
   ]
  },
  {
   "cell_type": "code",
   "execution_count": null,
   "id": "022b76aa",
   "metadata": {},
   "outputs": [],
   "source": []
  },
  {
   "cell_type": "code",
   "execution_count": 16,
   "id": "b384e851",
   "metadata": {},
   "outputs": [
    {
     "data": {
      "text/plain": [
       "enrollee_id               0\n",
       "city                      0\n",
       "city_development_index    0\n",
       "gender                    0\n",
       "relevent_experience       0\n",
       "enrolled_university       0\n",
       "education_level           0\n",
       "major_discipline          0\n",
       "experience                0\n",
       "company_size              0\n",
       "company_type              0\n",
       "last_new_job              0\n",
       "training_hours            0\n",
       "target                    0\n",
       "dtype: int64"
      ]
     },
     "execution_count": 16,
     "metadata": {},
     "output_type": "execute_result"
    }
   ],
   "source": [
    "df.isna().sum()"
   ]
  },
  {
   "cell_type": "code",
   "execution_count": null,
   "id": "762c6c7a",
   "metadata": {},
   "outputs": [],
   "source": []
  },
  {
   "cell_type": "code",
   "execution_count": 17,
   "id": "7dffb578",
   "metadata": {},
   "outputs": [
    {
     "name": "stderr",
     "output_type": "stream",
     "text": [
      "C:\\Users\\Owner\\AppData\\Local\\Temp/ipykernel_16644/1523922599.py:1: SettingWithCopyWarning: \n",
      "A value is trying to be set on a copy of a slice from a DataFrame\n",
      "\n",
      "See the caveats in the documentation: https://pandas.pydata.org/pandas-docs/stable/user_guide/indexing.html#returning-a-view-versus-a-copy\n",
      "  df.relevent_experience[df.relevent_experience=='No relevent experience'] = 0\n",
      "C:\\Users\\Owner\\AppData\\Local\\Temp/ipykernel_16644/1523922599.py:2: SettingWithCopyWarning: \n",
      "A value is trying to be set on a copy of a slice from a DataFrame\n",
      "\n",
      "See the caveats in the documentation: https://pandas.pydata.org/pandas-docs/stable/user_guide/indexing.html#returning-a-view-versus-a-copy\n",
      "  df.relevent_experience[df.relevent_experience=='Has relevent experience'] = 1\n"
     ]
    }
   ],
   "source": [
    "df.relevent_experience[df.relevent_experience=='No relevent experience'] = 0\n",
    "df.relevent_experience[df.relevent_experience=='Has relevent experience'] = 1\n",
    "df.relevent_experience = df.relevent_experience.astype(int)"
   ]
  },
  {
   "cell_type": "code",
   "execution_count": 7,
   "id": "fabf8d63",
   "metadata": {},
   "outputs": [
    {
     "name": "stdout",
     "output_type": "stream",
     "text": [
      "Requirement already satisfied: category_encoders in c:\\users\\owner\\anaconda3\\lib\\site-packages (2.3.0)Note: you may need to restart the kernel to use updated packages.\n",
      "\n",
      "Requirement already satisfied: patsy>=0.5.1 in c:\\users\\owner\\anaconda3\\lib\\site-packages (from category_encoders) (0.5.2)\n",
      "Requirement already satisfied: scipy>=1.0.0 in c:\\users\\owner\\anaconda3\\lib\\site-packages (from category_encoders) (1.7.1)\n",
      "Requirement already satisfied: pandas>=0.21.1 in c:\\users\\owner\\anaconda3\\lib\\site-packages (from category_encoders) (1.3.4)\n",
      "Requirement already satisfied: numpy>=1.14.0 in c:\\users\\owner\\anaconda3\\lib\\site-packages (from category_encoders) (1.20.3)\n",
      "Requirement already satisfied: statsmodels>=0.9.0 in c:\\users\\owner\\anaconda3\\lib\\site-packages (from category_encoders) (0.12.2)\n",
      "Requirement already satisfied: scikit-learn>=0.20.0 in c:\\users\\owner\\anaconda3\\lib\\site-packages (from category_encoders) (0.24.2)\n",
      "Requirement already satisfied: pytz>=2017.3 in c:\\users\\owner\\anaconda3\\lib\\site-packages (from pandas>=0.21.1->category_encoders) (2021.3)\n",
      "Requirement already satisfied: python-dateutil>=2.7.3 in c:\\users\\owner\\anaconda3\\lib\\site-packages (from pandas>=0.21.1->category_encoders) (2.8.2)\n",
      "Requirement already satisfied: six in c:\\users\\owner\\anaconda3\\lib\\site-packages (from patsy>=0.5.1->category_encoders) (1.16.0)\n",
      "Requirement already satisfied: threadpoolctl>=2.0.0 in c:\\users\\owner\\anaconda3\\lib\\site-packages (from scikit-learn>=0.20.0->category_encoders) (2.2.0)\n",
      "Requirement already satisfied: joblib>=0.11 in c:\\users\\owner\\anaconda3\\lib\\site-packages (from scikit-learn>=0.20.0->category_encoders) (1.1.0)\n"
     ]
    }
   ],
   "source": [
    "pip install category_encoders"
   ]
  },
  {
   "cell_type": "code",
   "execution_count": 18,
   "id": "07e19c2f",
   "metadata": {},
   "outputs": [],
   "source": [
    "import category_encoders as ce\n",
    "from sklearn.preprocessing import LabelEncoder\n",
    "le = LabelEncoder()"
   ]
  },
  {
   "cell_type": "code",
   "execution_count": 19,
   "id": "01781dd3",
   "metadata": {},
   "outputs": [],
   "source": [
    "cols = [\"education_level\", \"experience\", \"last_new_job\", \"company_size\", \"enrolled_university\"]\n",
    "\n",
    "## education_level\n",
    "encoder= ce.OrdinalEncoder(cols=['education_level'],return_df=True,\n",
    "                           mapping=[{'col':'education_level',\n",
    "'mapping':{'Primary':0,'High school':1,'Graduate':2,'Masters':3,'Phd':4,}}])\n",
    "df['education_level'] = encoder.fit_transform(df['education_level'])\n",
    "df[\"education_level\"] = df[\"education_level\"].replace(-1,1)\n",
    "\n",
    "## enrolled_university\n",
    "encoder= ce.OrdinalEncoder(cols=['enrolled_university'],return_df=True,\n",
    "                           mapping=[{'col':'enrolled_university',\n",
    "'mapping':{'no_enrollment':0,'Part time course':1,'Full time course':2,}}])\n",
    "df['enrolled_university'] = encoder.fit_transform(df['enrolled_university'])\n",
    "\n",
    "## last_new_job\n",
    "encoder= ce.OrdinalEncoder(cols=['last_new_job'],return_df=True,\n",
    "                           mapping=[{'col':'last_new_job',\n",
    "'mapping':{'never':0,'1':1,'2':2,'3':3,'4':4,'>4':5}}])\n",
    "df['last_new_job'] = encoder.fit_transform(df['last_new_job'])\n",
    "\n",
    "## company_size\n",
    "encoder= ce.OrdinalEncoder(cols=['company_size'],return_df=True,\n",
    "                           mapping=[{'col':'company_size',\n",
    "'mapping':{'unknown':0,'<10':1,'10-49':2,'50-99':3,'100-500':4,'500-1K':5,'1K-5K':6,'5K-10K':7,'10K+':8}}])\n",
    "df['company_size'] = encoder.fit_transform(df['company_size'])"
   ]
  },
  {
   "cell_type": "code",
   "execution_count": 20,
   "id": "79ffa68c",
   "metadata": {},
   "outputs": [],
   "source": [
    "## gender\n",
    "encoder=ce.OneHotEncoder(cols='gender',return_df=True,use_cat_names=True)\n",
    "df_encoded = encoder.fit_transform(df.gender)\n",
    "df = pd.concat([df, df_encoded], axis=1)\n",
    "df = df.drop(columns=\"gender\")\n",
    "df.head(10)\n",
    "\n",
    "## major_discipline\n",
    "encoder=ce.OneHotEncoder(cols='major_discipline',return_df=True,use_cat_names=True)\n",
    "df_encoded = encoder.fit_transform(df.major_discipline)\n",
    "df = pd.concat([df, df_encoded], axis=1)\n",
    "df = df.drop(columns=\"major_discipline\")\n",
    "\n",
    "## company_type\n",
    "encoder=ce.OneHotEncoder(cols='company_type',return_df=True,use_cat_names=True)\n",
    "df_encoded = encoder.fit_transform(df.company_type)\n",
    "df = pd.concat([df, df_encoded], axis=1)\n",
    "df = df.drop(columns=\"company_type\")"
   ]
  },
  {
   "cell_type": "code",
   "execution_count": 21,
   "id": "134f4c63",
   "metadata": {},
   "outputs": [
    {
     "data": {
      "text/html": [
       "<div>\n",
       "<style scoped>\n",
       "    .dataframe tbody tr th:only-of-type {\n",
       "        vertical-align: middle;\n",
       "    }\n",
       "\n",
       "    .dataframe tbody tr th {\n",
       "        vertical-align: top;\n",
       "    }\n",
       "\n",
       "    .dataframe thead th {\n",
       "        text-align: right;\n",
       "    }\n",
       "</style>\n",
       "<table border=\"1\" class=\"dataframe\">\n",
       "  <thead>\n",
       "    <tr style=\"text-align: right;\">\n",
       "      <th></th>\n",
       "      <th>enrollee_id</th>\n",
       "      <th>city</th>\n",
       "      <th>city_development_index</th>\n",
       "      <th>relevent_experience</th>\n",
       "      <th>enrolled_university</th>\n",
       "      <th>education_level</th>\n",
       "      <th>experience</th>\n",
       "      <th>company_size</th>\n",
       "      <th>last_new_job</th>\n",
       "      <th>training_hours</th>\n",
       "      <th>...</th>\n",
       "      <th>major_discipline_No Major</th>\n",
       "      <th>major_discipline_Business Degree</th>\n",
       "      <th>company_type_unknown</th>\n",
       "      <th>company_type_Pvt Ltd</th>\n",
       "      <th>company_type_Public Sector</th>\n",
       "      <th>company_type_NGO</th>\n",
       "      <th>company_type_Other</th>\n",
       "      <th>company_type_Early Stage Startup</th>\n",
       "      <th>company_type_Funded Startup</th>\n",
       "      <th>target</th>\n",
       "    </tr>\n",
       "  </thead>\n",
       "  <tbody>\n",
       "    <tr>\n",
       "      <th>0</th>\n",
       "      <td>13163</td>\n",
       "      <td>city_16</td>\n",
       "      <td>0.910</td>\n",
       "      <td>0</td>\n",
       "      <td>0</td>\n",
       "      <td>1.0</td>\n",
       "      <td>0</td>\n",
       "      <td>0.0</td>\n",
       "      <td>0</td>\n",
       "      <td>16</td>\n",
       "      <td>...</td>\n",
       "      <td>0</td>\n",
       "      <td>0</td>\n",
       "      <td>1</td>\n",
       "      <td>0</td>\n",
       "      <td>0</td>\n",
       "      <td>0</td>\n",
       "      <td>0</td>\n",
       "      <td>0</td>\n",
       "      <td>0</td>\n",
       "      <td>1</td>\n",
       "    </tr>\n",
       "    <tr>\n",
       "      <th>1</th>\n",
       "      <td>9357</td>\n",
       "      <td>city_136</td>\n",
       "      <td>0.897</td>\n",
       "      <td>1</td>\n",
       "      <td>0</td>\n",
       "      <td>3.0</td>\n",
       "      <td>1</td>\n",
       "      <td>-1.0</td>\n",
       "      <td>1</td>\n",
       "      <td>262</td>\n",
       "      <td>...</td>\n",
       "      <td>0</td>\n",
       "      <td>0</td>\n",
       "      <td>0</td>\n",
       "      <td>1</td>\n",
       "      <td>0</td>\n",
       "      <td>0</td>\n",
       "      <td>0</td>\n",
       "      <td>0</td>\n",
       "      <td>0</td>\n",
       "      <td>0</td>\n",
       "    </tr>\n",
       "    <tr>\n",
       "      <th>2</th>\n",
       "      <td>604</td>\n",
       "      <td>city_16</td>\n",
       "      <td>0.910</td>\n",
       "      <td>0</td>\n",
       "      <td>0</td>\n",
       "      <td>2.0</td>\n",
       "      <td>0</td>\n",
       "      <td>0.0</td>\n",
       "      <td>0</td>\n",
       "      <td>24</td>\n",
       "      <td>...</td>\n",
       "      <td>0</td>\n",
       "      <td>0</td>\n",
       "      <td>1</td>\n",
       "      <td>0</td>\n",
       "      <td>0</td>\n",
       "      <td>0</td>\n",
       "      <td>0</td>\n",
       "      <td>0</td>\n",
       "      <td>0</td>\n",
       "      <td>0</td>\n",
       "    </tr>\n",
       "    <tr>\n",
       "      <th>3</th>\n",
       "      <td>19033</td>\n",
       "      <td>city_16</td>\n",
       "      <td>0.910</td>\n",
       "      <td>0</td>\n",
       "      <td>0</td>\n",
       "      <td>1.0</td>\n",
       "      <td>0</td>\n",
       "      <td>0.0</td>\n",
       "      <td>1</td>\n",
       "      <td>35</td>\n",
       "      <td>...</td>\n",
       "      <td>0</td>\n",
       "      <td>0</td>\n",
       "      <td>1</td>\n",
       "      <td>0</td>\n",
       "      <td>0</td>\n",
       "      <td>0</td>\n",
       "      <td>0</td>\n",
       "      <td>0</td>\n",
       "      <td>0</td>\n",
       "      <td>0</td>\n",
       "    </tr>\n",
       "    <tr>\n",
       "      <th>4</th>\n",
       "      <td>4825</td>\n",
       "      <td>city_145</td>\n",
       "      <td>0.555</td>\n",
       "      <td>1</td>\n",
       "      <td>2</td>\n",
       "      <td>2.0</td>\n",
       "      <td>0</td>\n",
       "      <td>0.0</td>\n",
       "      <td>1</td>\n",
       "      <td>43</td>\n",
       "      <td>...</td>\n",
       "      <td>0</td>\n",
       "      <td>0</td>\n",
       "      <td>1</td>\n",
       "      <td>0</td>\n",
       "      <td>0</td>\n",
       "      <td>0</td>\n",
       "      <td>0</td>\n",
       "      <td>0</td>\n",
       "      <td>0</td>\n",
       "      <td>1</td>\n",
       "    </tr>\n",
       "  </tbody>\n",
       "</table>\n",
       "<p>5 rows × 29 columns</p>\n",
       "</div>"
      ],
      "text/plain": [
       "   enrollee_id      city  city_development_index  relevent_experience  \\\n",
       "0        13163   city_16                   0.910                    0   \n",
       "1         9357  city_136                   0.897                    1   \n",
       "2          604   city_16                   0.910                    0   \n",
       "3        19033   city_16                   0.910                    0   \n",
       "4         4825  city_145                   0.555                    1   \n",
       "\n",
       "   enrolled_university  education_level  experience  company_size  \\\n",
       "0                    0              1.0           0           0.0   \n",
       "1                    0              3.0           1          -1.0   \n",
       "2                    0              2.0           0           0.0   \n",
       "3                    0              1.0           0           0.0   \n",
       "4                    2              2.0           0           0.0   \n",
       "\n",
       "   last_new_job  training_hours  ...  major_discipline_No Major  \\\n",
       "0             0              16  ...                          0   \n",
       "1             1             262  ...                          0   \n",
       "2             0              24  ...                          0   \n",
       "3             1              35  ...                          0   \n",
       "4             1              43  ...                          0   \n",
       "\n",
       "   major_discipline_Business Degree  company_type_unknown  \\\n",
       "0                                 0                     1   \n",
       "1                                 0                     0   \n",
       "2                                 0                     1   \n",
       "3                                 0                     1   \n",
       "4                                 0                     1   \n",
       "\n",
       "   company_type_Pvt Ltd  company_type_Public Sector  company_type_NGO  \\\n",
       "0                     0                           0                 0   \n",
       "1                     1                           0                 0   \n",
       "2                     0                           0                 0   \n",
       "3                     0                           0                 0   \n",
       "4                     0                           0                 0   \n",
       "\n",
       "   company_type_Other  company_type_Early Stage Startup  \\\n",
       "0                   0                                 0   \n",
       "1                   0                                 0   \n",
       "2                   0                                 0   \n",
       "3                   0                                 0   \n",
       "4                   0                                 0   \n",
       "\n",
       "   company_type_Funded Startup  target  \n",
       "0                            0       1  \n",
       "1                            0       0  \n",
       "2                            0       0  \n",
       "3                            0       0  \n",
       "4                            0       1  \n",
       "\n",
       "[5 rows x 29 columns]"
      ]
     },
     "execution_count": 21,
     "metadata": {},
     "output_type": "execute_result"
    }
   ],
   "source": [
    "df = pd.concat([df,df_y], axis=1)\n",
    "df.head()"
   ]
  },
  {
   "cell_type": "code",
   "execution_count": 29,
   "id": "a0cb8501",
   "metadata": {},
   "outputs": [],
   "source": [
    "df_x = df.drop(columns =[\"enrollee_id\", \"city\", \"target\"])"
   ]
  },
  {
   "cell_type": "code",
   "execution_count": 30,
   "id": "9dfe3f74",
   "metadata": {},
   "outputs": [
    {
     "data": {
      "text/plain": [
       "array([7.06290598e-02, 1.31355563e-02, 1.14919205e-02, 2.58539728e-03,\n",
       "       1.48025441e-02, 2.72672549e-02, 6.00742274e-03, 0.00000000e+00,\n",
       "       6.77931668e-03, 3.32463188e-03, 0.00000000e+00, 3.57604705e-03,\n",
       "       8.66967498e-03, 4.43965269e-03, 2.77994285e-03, 0.00000000e+00,\n",
       "       6.28683972e-05, 0.00000000e+00, 2.47407837e-02, 1.94954315e-02,\n",
       "       0.00000000e+00, 2.24330069e-03, 2.04768809e-03, 3.88892820e-03,\n",
       "       0.00000000e+00])"
      ]
     },
     "execution_count": 30,
     "metadata": {},
     "output_type": "execute_result"
    }
   ],
   "source": [
    "from sklearn.feature_selection import mutual_info_classif\n",
    "# determine the mutual information\n",
    "mutual_info = mutual_info_classif(df_x, df_y)\n",
    "mutual_info"
   ]
  },
  {
   "cell_type": "code",
   "execution_count": 31,
   "id": "32875f2c",
   "metadata": {},
   "outputs": [
    {
     "data": {
      "text/plain": [
       "city_development_index              0.070629\n",
       "company_size                        0.027267\n",
       "company_type_unknown                0.024741\n",
       "company_type_Pvt Ltd                0.019495\n",
       "experience                          0.014803\n",
       "relevent_experience                 0.013136\n",
       "enrolled_university                 0.011492\n",
       "major_discipline_STEM               0.008670\n",
       "gender_unknown                      0.006779\n",
       "last_new_job                        0.006007\n",
       "major_discipline_Arts               0.004440\n",
       "company_type_Early Stage Startup    0.003889\n",
       "gender_Other                        0.003576\n",
       "gender_Male                         0.003325\n",
       "major_discipline_Other              0.002780\n",
       "education_level                     0.002585\n",
       "company_type_NGO                    0.002243\n",
       "company_type_Other                  0.002048\n",
       "major_discipline_No Major           0.000063\n",
       "major_discipline_Business Degree    0.000000\n",
       "company_type_Public Sector          0.000000\n",
       "major_discipline_Humanities         0.000000\n",
       "training_hours                      0.000000\n",
       "gender_Female                       0.000000\n",
       "company_type_Funded Startup         0.000000\n",
       "dtype: float64"
      ]
     },
     "execution_count": 31,
     "metadata": {},
     "output_type": "execute_result"
    }
   ],
   "source": [
    "mutual_info = pd.Series(mutual_info)\n",
    "mutual_info.index = df_x.columns\n",
    "mutual_info.sort_values(ascending=False)"
   ]
  },
  {
   "cell_type": "code",
   "execution_count": 32,
   "id": "1eea08fb",
   "metadata": {},
   "outputs": [
    {
     "data": {
      "text/plain": [
       "<AxesSubplot:>"
      ]
     },
     "execution_count": 32,
     "metadata": {},
     "output_type": "execute_result"
    },
    {
     "data": {
      "image/png": "[encoded data removed]",
      "text/plain": [
       "<Figure size 1440x576 with 1 Axes>"
      ]
     },
     "metadata": {
      "needs_background": "light"
     },
     "output_type": "display_data"
    }
   ],
   "source": [
    "mutual_info.sort_values(ascending=False).plot.bar(figsize=(20, 8))"
   ]
  },
  {
   "cell_type": "code",
   "execution_count": 27,
   "id": "d9953cb3",
   "metadata": {},
   "outputs": [],
   "source": [
    "from sklearn.feature_selection import SelectKBest"
   ]
  },
  {
   "cell_type": "code",
   "execution_count": 33,
   "id": "be466756",
   "metadata": {},
   "outputs": [
    {
     "data": {
      "text/plain": [
       "Index(['city_development_index', 'relevent_experience', 'enrolled_university',\n",
       "       'company_size', 'company_type_unknown'],\n",
       "      dtype='object')"
      ]
     },
     "execution_count": 33,
     "metadata": {},
     "output_type": "execute_result"
    }
   ],
   "source": [
    "sel_five_cols = SelectKBest(mutual_info_classif, k=5)\n",
    "sel_five_cols.fit(df_x, df_y)\n",
    "df_x.columns[sel_five_cols.get_support()]"
   ]
  },
  {
   "cell_type": "code",
   "execution_count": 34,
   "id": "c3474dcc",
   "metadata": {},
   "outputs": [],
   "source": [
    "from sklearn.feature_selection import SequentialFeatureSelector as SFS\n",
    "from sklearn.linear_model import LogisticRegression as LGR\n",
    "from sklearn.ensemble import RandomForestClassifier as rfc"
   ]
  },
  {
   "cell_type": "code",
   "execution_count": 38,
   "id": "67afebc5",
   "metadata": {},
   "outputs": [
    {
     "name": "stderr",
     "output_type": "stream",
     "text": [
      "C:\\Users\\Owner\\anaconda3\\lib\\site-packages\\sklearn\\linear_model\\_logistic.py:763: ConvergenceWarning: lbfgs failed to converge (status=1):\n",
      "STOP: TOTAL NO. of ITERATIONS REACHED LIMIT.\n",
      "\n",
      "Increase the number of iterations (max_iter) or scale the data as shown in:\n",
      "    https://scikit-learn.org/stable/modules/preprocessing.html\n",
      "Please also refer to the documentation for alternative solver options:\n",
      "    https://scikit-learn.org/stable/modules/linear_model.html#logistic-regression\n",
      "  n_iter_i = _check_optimize_result(\n"
     ]
    },
    {
     "data": {
      "text/plain": [
       "Index(['city_development_index', 'major_discipline_Arts', 'company_type_NGO',\n",
       "       'company_type_Other', 'company_type_Funded Startup'],\n",
       "      dtype='object')"
      ]
     },
     "execution_count": 38,
     "metadata": {},
     "output_type": "execute_result"
    }
   ],
   "source": [
    "lgr_m = LGR(random_state=0).fit(df_x, df_y)\n",
    "sfs_selector = SFS(estimator=lgr_m, n_features_to_select = 5, cv =10, direction =\"forward\")\n",
    "sfs_selector.fit(df_x, df_y)\n",
    "df_x.columns[sfs_selector.get_support()]"
   ]
  },
  {
   "cell_type": "code",
   "execution_count": null,
   "id": "525753c9",
   "metadata": {},
   "outputs": [],
   "source": []
  }
 ],
 "metadata": {
  "kernelspec": {
   "display_name": "Python 3 (ipykernel)",
   "language": "python",
   "name": "python3"
  },
  "language_info": {
   "codemirror_mode": {
    "name": "ipython",
    "version": 3
   },
   "file_extension": ".py",
   "mimetype": "text/x-python",
   "name": "python",
   "nbconvert_exporter": "python",
   "pygments_lexer": "ipython3",
   "version": "3.9.7"
  }
 },
 "nbformat": 4,
 "nbformat_minor": 5
}
